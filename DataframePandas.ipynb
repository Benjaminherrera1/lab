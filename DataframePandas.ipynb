{
  "nbformat": 4,
  "nbformat_minor": 0,
  "metadata": {
    "colab": {
      "provenance": [],
      "include_colab_link": true
    },
    "kernelspec": {
      "name": "python3",
      "display_name": "Python 3"
    }
  },
  "cells": [
    {
      "cell_type": "markdown",
      "metadata": {
        "id": "view-in-github",
        "colab_type": "text"
      },
      "source": [
        "<a href=\"https://colab.research.google.com/github/Benjaminherrera1/lab/blob/main/DataframePandas.ipynb\" target=\"_parent\"><img src=\"https://colab.research.google.com/assets/colab-badge.svg\" alt=\"Open In Colab\"/></a>"
      ]
    },
    {
      "cell_type": "markdown",
      "metadata": {
        "id": "hi-DK7SHZek9"
      },
      "source": [
        "## Ejemplo de tabla\n",
        "\n",
        "|  Nombre | Edad  |  Altura  |   |   |\n",
        "|---|---|---|---|---|\n",
        "| Juan | 16  |  1.69 |   |   |\n",
        "| Maria|  15 |  1.60 |   |   |\n",
        "| Pedro |  16 |  1.73 |   |   |"
      ]
    },
    {
      "cell_type": "code",
      "metadata": {
        "id": "utq1MmcDZbzN"
      },
      "source": [
        "import pandas as pd "
      ],
      "execution_count": null,
      "outputs": []
    },
    {
      "cell_type": "code",
      "metadata": {
        "id": "QX0uP9Dnc-g5",
        "colab": {
          "base_uri": "https://localhost:8080/",
          "height": 200
        },
        "outputId": "1ee5f467-b3cb-4735-bd0e-1cdae501d0b4"
      },
      "source": [
        "\n",
        "df2 = pd.read_csv(\"https://docs.google.com/spreadsheets/d/12MHNWZnbekh6RClFcxRcixMB90ooPsUsg3Tt9L7OllM/export?format=csv\")\n",
        "df2"
      ],
      "execution_count": 1,
      "outputs": [
        {
          "output_type": "error",
          "ename": "NameError",
          "evalue": "ignored",
          "traceback": [
            "\u001b[0;31m---------------------------------------------------------------------------\u001b[0m",
            "\u001b[0;31mNameError\u001b[0m                                 Traceback (most recent call last)",
            "\u001b[0;32m<ipython-input-1-3cec3da5a3d8>\u001b[0m in \u001b[0;36m<module>\u001b[0;34m\u001b[0m\n\u001b[1;32m      1\u001b[0m \u001b[0;31m# @title Descargando desde sheets export?format=csv\u001b[0m\u001b[0;34m\u001b[0m\u001b[0;34m\u001b[0m\u001b[0;34m\u001b[0m\u001b[0m\n\u001b[0;32m----> 2\u001b[0;31m \u001b[0mdf2\u001b[0m \u001b[0;34m=\u001b[0m \u001b[0mpd\u001b[0m\u001b[0;34m.\u001b[0m\u001b[0mread_csv\u001b[0m\u001b[0;34m(\u001b[0m\u001b[0;34m\"https://docs.google.com/spreadsheets/d/12MHNWZnbekh6RClFcxRcixMB90ooPsUsg3Tt9L7OllM/export?format=csv\"\u001b[0m\u001b[0;34m)\u001b[0m\u001b[0;34m\u001b[0m\u001b[0;34m\u001b[0m\u001b[0m\n\u001b[0m\u001b[1;32m      3\u001b[0m \u001b[0mdf2\u001b[0m\u001b[0;34m\u001b[0m\u001b[0;34m\u001b[0m\u001b[0m\n",
            "\u001b[0;31mNameError\u001b[0m: name 'pd' is not defined"
          ]
        }
      ]
    },
    {
      "cell_type": "code",
      "metadata": {
        "id": "-t8vRx6NdC9v",
        "colab": {
          "base_uri": "https://localhost:8080/",
          "height": 142
        },
        "outputId": "e5f81ed5-b301-4f3f-e479-25fc5d793e40"
      },
      "source": [
        " \n",
        "datos = [\n",
        "        {\"Nombre\":\"Juan\", \"Edad\":16,\"Altura\": 1.69},\n",
        "        {\"Nombre\":\"Maria\", \"Edad\":15,\"Altura\": 1.60},\n",
        "        {\"Nombre\":\"Pedro\", \"Edad\":16,\"Altura\": 1.73}\n",
        "        ]\n",
        "\n",
        "df3 = pd.DataFrame(datos)\n",
        "df3"
      ],
      "execution_count": null,
      "outputs": [
        {
          "output_type": "execute_result",
          "data": {
            "text/html": [
              "<div>\n",
              "<style scoped>\n",
              "    .dataframe tbody tr th:only-of-type {\n",
              "        vertical-align: middle;\n",
              "    }\n",
              "\n",
              "    .dataframe tbody tr th {\n",
              "        vertical-align: top;\n",
              "    }\n",
              "\n",
              "    .dataframe thead th {\n",
              "        text-align: right;\n",
              "    }\n",
              "</style>\n",
              "<table border=\"1\" class=\"dataframe\">\n",
              "  <thead>\n",
              "    <tr style=\"text-align: right;\">\n",
              "      <th></th>\n",
              "      <th>Nombre</th>\n",
              "      <th>Edad</th>\n",
              "      <th>Altura</th>\n",
              "    </tr>\n",
              "  </thead>\n",
              "  <tbody>\n",
              "    <tr>\n",
              "      <th>0</th>\n",
              "      <td>Juan</td>\n",
              "      <td>16</td>\n",
              "      <td>1.69</td>\n",
              "    </tr>\n",
              "    <tr>\n",
              "      <th>1</th>\n",
              "      <td>Maria</td>\n",
              "      <td>15</td>\n",
              "      <td>1.60</td>\n",
              "    </tr>\n",
              "    <tr>\n",
              "      <th>2</th>\n",
              "      <td>Pedro</td>\n",
              "      <td>16</td>\n",
              "      <td>1.73</td>\n",
              "    </tr>\n",
              "  </tbody>\n",
              "</table>\n",
              "</div>"
            ],
            "text/plain": [
              "  Nombre  Edad  Altura\n",
              "0   Juan    16    1.69\n",
              "1  Maria    15    1.60\n",
              "2  Pedro    16    1.73"
            ]
          },
          "metadata": {
            "tags": []
          },
          "execution_count": 4
        }
      ]
    },
    {
      "cell_type": "code",
      "metadata": {
        "id": "WqYRkc95hQ0G",
        "colab": {
          "base_uri": "https://localhost:8080/",
          "height": 142
        },
        "outputId": "1ee6cf65-8bb9-4797-af2a-cffc1581e678"
      },
      "source": [
        "\n",
        "\n",
        "datos = [\n",
        "  [\"Juan\", 16, 1.69], \n",
        "  [\"Maria\",15,1.60], \n",
        "  [\"Pedro\", 1.6, 1.73] \n",
        "  ]\n",
        "\n",
        "df4 = pd.DataFrame(datos, columns=[\"Nombre\", \"Edad\", \"Altura\"])\n",
        "df4"
      ],
      "execution_count": null,
      "outputs": [
        {
          "output_type": "execute_result",
          "data": {
            "text/html": [
              "<div>\n",
              "<style scoped>\n",
              "    .dataframe tbody tr th:only-of-type {\n",
              "        vertical-align: middle;\n",
              "    }\n",
              "\n",
              "    .dataframe tbody tr th {\n",
              "        vertical-align: top;\n",
              "    }\n",
              "\n",
              "    .dataframe thead th {\n",
              "        text-align: right;\n",
              "    }\n",
              "</style>\n",
              "<table border=\"1\" class=\"dataframe\">\n",
              "  <thead>\n",
              "    <tr style=\"text-align: right;\">\n",
              "      <th></th>\n",
              "      <th>Nombre</th>\n",
              "      <th>Edad</th>\n",
              "      <th>Altura</th>\n",
              "    </tr>\n",
              "  </thead>\n",
              "  <tbody>\n",
              "    <tr>\n",
              "      <th>0</th>\n",
              "      <td>Juan</td>\n",
              "      <td>16.0</td>\n",
              "      <td>1.69</td>\n",
              "    </tr>\n",
              "    <tr>\n",
              "      <th>1</th>\n",
              "      <td>Maria</td>\n",
              "      <td>15.0</td>\n",
              "      <td>1.60</td>\n",
              "    </tr>\n",
              "    <tr>\n",
              "      <th>2</th>\n",
              "      <td>Pedro</td>\n",
              "      <td>1.6</td>\n",
              "      <td>1.73</td>\n",
              "    </tr>\n",
              "  </tbody>\n",
              "</table>\n",
              "</div>"
            ],
            "text/plain": [
              "  Nombre  Edad  Altura\n",
              "0   Juan  16.0    1.69\n",
              "1  Maria  15.0    1.60\n",
              "2  Pedro   1.6    1.73"
            ]
          },
          "metadata": {
            "tags": []
          },
          "execution_count": 5
        }
      ]
    },
    {
      "cell_type": "code",
      "metadata": {
        "id": "GTyt6MsPiYB3",
        "colab": {
          "base_uri": "https://localhost:8080/",
          "height": 142
        },
        "outputId": "abafc085-3d7e-4cef-9493-d7c1622ea263"
      },
      "source": [
        "df5 = pd.DataFrame()\n",
        "df5[\"Nombre\"] = [\"Juan\",\"Maria\", \"Pedro\"]\n",
        "df5[\"Edad\"] = [16,15,16]\n",
        "df5[\"Altura\"] = [1.69,1.60,1.73]\n",
        "\n",
        "df5"
      ],
      "execution_count": null,
      "outputs": [
        {
          "output_type": "execute_result",
          "data": {
            "text/html": [
              "<div>\n",
              "<style scoped>\n",
              "    .dataframe tbody tr th:only-of-type {\n",
              "        vertical-align: middle;\n",
              "    }\n",
              "\n",
              "    .dataframe tbody tr th {\n",
              "        vertical-align: top;\n",
              "    }\n",
              "\n",
              "    .dataframe thead th {\n",
              "        text-align: right;\n",
              "    }\n",
              "</style>\n",
              "<table border=\"1\" class=\"dataframe\">\n",
              "  <thead>\n",
              "    <tr style=\"text-align: right;\">\n",
              "      <th></th>\n",
              "      <th>Nombre</th>\n",
              "      <th>Edad</th>\n",
              "      <th>Altura</th>\n",
              "    </tr>\n",
              "  </thead>\n",
              "  <tbody>\n",
              "    <tr>\n",
              "      <th>0</th>\n",
              "      <td>Juan</td>\n",
              "      <td>16</td>\n",
              "      <td>1.69</td>\n",
              "    </tr>\n",
              "    <tr>\n",
              "      <th>1</th>\n",
              "      <td>Maria</td>\n",
              "      <td>15</td>\n",
              "      <td>1.60</td>\n",
              "    </tr>\n",
              "    <tr>\n",
              "      <th>2</th>\n",
              "      <td>Pedro</td>\n",
              "      <td>16</td>\n",
              "      <td>1.73</td>\n",
              "    </tr>\n",
              "  </tbody>\n",
              "</table>\n",
              "</div>"
            ],
            "text/plain": [
              "  Nombre  Edad  Altura\n",
              "0   Juan    16    1.69\n",
              "1  Maria    15    1.60\n",
              "2  Pedro    16    1.73"
            ]
          },
          "metadata": {
            "tags": []
          },
          "execution_count": 6
        }
      ]
    },
    {
      "cell_type": "code",
      "metadata": {
        "id": "t6YqLawUkAwy"
      },
      "source": [
        "df = pd.read_csv"
      ],
      "execution_count": null,
      "outputs": []
    },
    {
      "cell_type": "code",
      "metadata": {
        "id": "j5q34vYIkX_6",
        "colab": {
          "base_uri": "https://localhost:8080/",
          "height": 234
        },
        "outputId": "d6bad073-a665-40dd-cef0-8b24af1714da"
      },
      "source": [
        "\n",
        "df"
      ],
      "execution_count": null,
      "outputs": [
        {
          "output_type": "execute_result",
          "data": {
            "text/html": [
              "<div>\n",
              "<style scoped>\n",
              "    .dataframe tbody tr th:only-of-type {\n",
              "        vertical-align: middle;\n",
              "    }\n",
              "\n",
              "    .dataframe tbody tr th {\n",
              "        vertical-align: top;\n",
              "    }\n",
              "\n",
              "    .dataframe thead th {\n",
              "        text-align: right;\n",
              "    }\n",
              "</style>\n",
              "<table border=\"1\" class=\"dataframe\">\n",
              "  <thead>\n",
              "    <tr style=\"text-align: right;\">\n",
              "      <th></th>\n",
              "      <th>Nombre</th>\n",
              "      <th>Apellido</th>\n",
              "      <th>Edad</th>\n",
              "      <th>Peso</th>\n",
              "      <th>Altura</th>\n",
              "    </tr>\n",
              "  </thead>\n",
              "  <tbody>\n",
              "    <tr>\n",
              "      <th>0</th>\n",
              "      <td>Roberto</td>\n",
              "      <td>Alfaro</td>\n",
              "      <td>16</td>\n",
              "      <td>70</td>\n",
              "      <td>1.78</td>\n",
              "    </tr>\n",
              "    <tr>\n",
              "      <th>1</th>\n",
              "      <td>Laura</td>\n",
              "      <td>Bustamante</td>\n",
              "      <td>15</td>\n",
              "      <td>57</td>\n",
              "      <td>1.60</td>\n",
              "    </tr>\n",
              "    <tr>\n",
              "      <th>2</th>\n",
              "      <td>Erick</td>\n",
              "      <td>Estrada</td>\n",
              "      <td>16</td>\n",
              "      <td>65</td>\n",
              "      <td>1.74</td>\n",
              "    </tr>\n",
              "    <tr>\n",
              "      <th>3</th>\n",
              "      <td>Maria</td>\n",
              "      <td>Domínguez</td>\n",
              "      <td>15</td>\n",
              "      <td>52</td>\n",
              "      <td>1.60</td>\n",
              "    </tr>\n",
              "    <tr>\n",
              "      <th>4</th>\n",
              "      <td>Jorge</td>\n",
              "      <td>Ortíz</td>\n",
              "      <td>17</td>\n",
              "      <td>60</td>\n",
              "      <td>1.70</td>\n",
              "    </tr>\n",
              "    <tr>\n",
              "      <th>5</th>\n",
              "      <td>Rosa</td>\n",
              "      <td>Jiménez</td>\n",
              "      <td>16</td>\n",
              "      <td>56</td>\n",
              "      <td>1.53</td>\n",
              "    </tr>\n",
              "  </tbody>\n",
              "</table>\n",
              "</div>"
            ],
            "text/plain": [
              "    Nombre    Apellido  Edad  Peso  Altura\n",
              "0  Roberto      Alfaro    16    70    1.78\n",
              "1    Laura  Bustamante    15    57    1.60\n",
              "2    Erick     Estrada    16    65    1.74\n",
              "3    Maria   Domínguez    15    52    1.60\n",
              "4   Jorge        Ortíz    17    60    1.70\n",
              "5     Rosa     Jiménez    16    56    1.53"
            ]
          },
          "metadata": {
            "tags": []
          },
          "execution_count": 8
        }
      ]
    },
    {
      "cell_type": "code",
      "metadata": {
        "id": "vD3j_RBXl2CZ",
        "colab": {
          "base_uri": "https://localhost:8080/",
          "height": 295
        },
        "outputId": "a6b03102-ac43-4dbf-ab4b-b98c80258535"
      },
      "source": [
        "\n",
        "df.describe()"
      ],
      "execution_count": null,
      "outputs": [
        {
          "output_type": "execute_result",
          "data": {
            "text/html": [
              "<div>\n",
              "<style scoped>\n",
              "    .dataframe tbody tr th:only-of-type {\n",
              "        vertical-align: middle;\n",
              "    }\n",
              "\n",
              "    .dataframe tbody tr th {\n",
              "        vertical-align: top;\n",
              "    }\n",
              "\n",
              "    .dataframe thead th {\n",
              "        text-align: right;\n",
              "    }\n",
              "</style>\n",
              "<table border=\"1\" class=\"dataframe\">\n",
              "  <thead>\n",
              "    <tr style=\"text-align: right;\">\n",
              "      <th></th>\n",
              "      <th>Edad</th>\n",
              "      <th>Peso</th>\n",
              "      <th>Altura</th>\n",
              "    </tr>\n",
              "  </thead>\n",
              "  <tbody>\n",
              "    <tr>\n",
              "      <th>count</th>\n",
              "      <td>6.000000</td>\n",
              "      <td>6.000000</td>\n",
              "      <td>6.000000</td>\n",
              "    </tr>\n",
              "    <tr>\n",
              "      <th>mean</th>\n",
              "      <td>15.833333</td>\n",
              "      <td>60.000000</td>\n",
              "      <td>1.658333</td>\n",
              "    </tr>\n",
              "    <tr>\n",
              "      <th>std</th>\n",
              "      <td>0.752773</td>\n",
              "      <td>6.542171</td>\n",
              "      <td>0.096419</td>\n",
              "    </tr>\n",
              "    <tr>\n",
              "      <th>min</th>\n",
              "      <td>15.000000</td>\n",
              "      <td>52.000000</td>\n",
              "      <td>1.530000</td>\n",
              "    </tr>\n",
              "    <tr>\n",
              "      <th>25%</th>\n",
              "      <td>15.250000</td>\n",
              "      <td>56.250000</td>\n",
              "      <td>1.600000</td>\n",
              "    </tr>\n",
              "    <tr>\n",
              "      <th>50%</th>\n",
              "      <td>16.000000</td>\n",
              "      <td>58.500000</td>\n",
              "      <td>1.650000</td>\n",
              "    </tr>\n",
              "    <tr>\n",
              "      <th>75%</th>\n",
              "      <td>16.000000</td>\n",
              "      <td>63.750000</td>\n",
              "      <td>1.730000</td>\n",
              "    </tr>\n",
              "    <tr>\n",
              "      <th>max</th>\n",
              "      <td>17.000000</td>\n",
              "      <td>70.000000</td>\n",
              "      <td>1.780000</td>\n",
              "    </tr>\n",
              "  </tbody>\n",
              "</table>\n",
              "</div>"
            ],
            "text/plain": [
              "            Edad       Peso    Altura\n",
              "count   6.000000   6.000000  6.000000\n",
              "mean   15.833333  60.000000  1.658333\n",
              "std     0.752773   6.542171  0.096419\n",
              "min    15.000000  52.000000  1.530000\n",
              "25%    15.250000  56.250000  1.600000\n",
              "50%    16.000000  58.500000  1.650000\n",
              "75%    16.000000  63.750000  1.730000\n",
              "max    17.000000  70.000000  1.780000"
            ]
          },
          "metadata": {
            "tags": []
          },
          "execution_count": 9
        }
      ]
    },
    {
      "cell_type": "code",
      "metadata": {
        "id": "WtM-DdhWpURx",
        "colab": {
          "base_uri": "https://localhost:8080/",
          "height": 234
        },
        "outputId": "df280605-f6e4-4c9d-f034-19453955ad5b"
      },
      "source": [
        "df[[\"Edad\",\"Altura\",\"Nombre\"]]"
      ],
      "execution_count": null,
      "outputs": [
        {
          "output_type": "execute_result",
          "data": {
            "text/html": [
              "<div>\n",
              "<style scoped>\n",
              "    .dataframe tbody tr th:only-of-type {\n",
              "        vertical-align: middle;\n",
              "    }\n",
              "\n",
              "    .dataframe tbody tr th {\n",
              "        vertical-align: top;\n",
              "    }\n",
              "\n",
              "    .dataframe thead th {\n",
              "        text-align: right;\n",
              "    }\n",
              "</style>\n",
              "<table border=\"1\" class=\"dataframe\">\n",
              "  <thead>\n",
              "    <tr style=\"text-align: right;\">\n",
              "      <th></th>\n",
              "      <th>Edad</th>\n",
              "      <th>Altura</th>\n",
              "      <th>Nombre</th>\n",
              "    </tr>\n",
              "  </thead>\n",
              "  <tbody>\n",
              "    <tr>\n",
              "      <th>0</th>\n",
              "      <td>16</td>\n",
              "      <td>1.78</td>\n",
              "      <td>Roberto</td>\n",
              "    </tr>\n",
              "    <tr>\n",
              "      <th>1</th>\n",
              "      <td>15</td>\n",
              "      <td>1.60</td>\n",
              "      <td>Laura</td>\n",
              "    </tr>\n",
              "    <tr>\n",
              "      <th>2</th>\n",
              "      <td>16</td>\n",
              "      <td>1.74</td>\n",
              "      <td>Erick</td>\n",
              "    </tr>\n",
              "    <tr>\n",
              "      <th>3</th>\n",
              "      <td>15</td>\n",
              "      <td>1.60</td>\n",
              "      <td>Maria</td>\n",
              "    </tr>\n",
              "    <tr>\n",
              "      <th>4</th>\n",
              "      <td>17</td>\n",
              "      <td>1.70</td>\n",
              "      <td>Jorge</td>\n",
              "    </tr>\n",
              "    <tr>\n",
              "      <th>5</th>\n",
              "      <td>16</td>\n",
              "      <td>1.53</td>\n",
              "      <td>Rosa</td>\n",
              "    </tr>\n",
              "  </tbody>\n",
              "</table>\n",
              "</div>"
            ],
            "text/plain": [
              "   Edad  Altura   Nombre\n",
              "0    16    1.78  Roberto\n",
              "1    15    1.60    Laura\n",
              "2    16    1.74    Erick\n",
              "3    15    1.60    Maria\n",
              "4    17    1.70   Jorge \n",
              "5    16    1.53     Rosa"
            ]
          },
          "metadata": {
            "tags": []
          },
          "execution_count": 10
        }
      ]
    },
    {
      "cell_type": "code",
      "metadata": {
        "id": "uQpW1cx6BkfF"
      },
      "source": [
        "\n",
        "df[\"Nombre_completo\"] = df[\"Nombre\"] + \" \" + df[\"Apellido\"]\n",
        "df[\"imc\"] = df[\"Peso\"] / (df[\"Altura\"] * df[\"Altura\"])"
      ],
      "execution_count": null,
      "outputs": []
    },
    {
      "cell_type": "code",
      "metadata": {
        "id": "Okj75-uuCGV1",
        "colab": {
          "base_uri": "https://localhost:8080/",
          "height": 234
        },
        "outputId": "5e2d612f-ff31-4356-b94d-8a40f636de09"
      },
      "source": [
        "df"
      ],
      "execution_count": null,
      "outputs": [
        {
          "output_type": "execute_result",
          "data": {
            "text/html": [
              "<div>\n",
              "<style scoped>\n",
              "    .dataframe tbody tr th:only-of-type {\n",
              "        vertical-align: middle;\n",
              "    }\n",
              "\n",
              "    .dataframe tbody tr th {\n",
              "        vertical-align: top;\n",
              "    }\n",
              "\n",
              "    .dataframe thead th {\n",
              "        text-align: right;\n",
              "    }\n",
              "</style>\n",
              "<table border=\"1\" class=\"dataframe\">\n",
              "  <thead>\n",
              "    <tr style=\"text-align: right;\">\n",
              "      <th></th>\n",
              "      <th>Nombre</th>\n",
              "      <th>Apellido</th>\n",
              "      <th>Edad</th>\n",
              "      <th>Peso</th>\n",
              "      <th>Altura</th>\n",
              "      <th>Nombre_completo</th>\n",
              "      <th>imc</th>\n",
              "    </tr>\n",
              "  </thead>\n",
              "  <tbody>\n",
              "    <tr>\n",
              "      <th>0</th>\n",
              "      <td>Roberto</td>\n",
              "      <td>Alfaro</td>\n",
              "      <td>16</td>\n",
              "      <td>70</td>\n",
              "      <td>1.78</td>\n",
              "      <td>Roberto Alfaro</td>\n",
              "      <td>22.093170</td>\n",
              "    </tr>\n",
              "    <tr>\n",
              "      <th>1</th>\n",
              "      <td>Laura</td>\n",
              "      <td>Bustamante</td>\n",
              "      <td>15</td>\n",
              "      <td>57</td>\n",
              "      <td>1.60</td>\n",
              "      <td>Laura Bustamante</td>\n",
              "      <td>22.265625</td>\n",
              "    </tr>\n",
              "    <tr>\n",
              "      <th>2</th>\n",
              "      <td>Erick</td>\n",
              "      <td>Estrada</td>\n",
              "      <td>16</td>\n",
              "      <td>65</td>\n",
              "      <td>1.74</td>\n",
              "      <td>Erick Estrada</td>\n",
              "      <td>21.469150</td>\n",
              "    </tr>\n",
              "    <tr>\n",
              "      <th>3</th>\n",
              "      <td>Maria</td>\n",
              "      <td>Domínguez</td>\n",
              "      <td>15</td>\n",
              "      <td>52</td>\n",
              "      <td>1.60</td>\n",
              "      <td>Maria Domínguez</td>\n",
              "      <td>20.312500</td>\n",
              "    </tr>\n",
              "    <tr>\n",
              "      <th>4</th>\n",
              "      <td>Jorge</td>\n",
              "      <td>Ortíz</td>\n",
              "      <td>17</td>\n",
              "      <td>60</td>\n",
              "      <td>1.70</td>\n",
              "      <td>Jorge  Ortíz</td>\n",
              "      <td>20.761246</td>\n",
              "    </tr>\n",
              "    <tr>\n",
              "      <th>5</th>\n",
              "      <td>Rosa</td>\n",
              "      <td>Jiménez</td>\n",
              "      <td>16</td>\n",
              "      <td>56</td>\n",
              "      <td>1.53</td>\n",
              "      <td>Rosa Jiménez</td>\n",
              "      <td>23.922423</td>\n",
              "    </tr>\n",
              "  </tbody>\n",
              "</table>\n",
              "</div>"
            ],
            "text/plain": [
              "    Nombre    Apellido  Edad  Peso  Altura   Nombre_completo        imc\n",
              "0  Roberto      Alfaro    16    70    1.78    Roberto Alfaro  22.093170\n",
              "1    Laura  Bustamante    15    57    1.60  Laura Bustamante  22.265625\n",
              "2    Erick     Estrada    16    65    1.74     Erick Estrada  21.469150\n",
              "3    Maria   Domínguez    15    52    1.60   Maria Domínguez  20.312500\n",
              "4   Jorge        Ortíz    17    60    1.70      Jorge  Ortíz  20.761246\n",
              "5     Rosa     Jiménez    16    56    1.53      Rosa Jiménez  23.922423"
            ]
          },
          "metadata": {
            "tags": []
          },
          "execution_count": 12
        }
      ]
    },
    {
      "cell_type": "code",
      "metadata": {
        "id": "13koCsOFh_Pa",
        "colab": {
          "base_uri": "https://localhost:8080/",
          "height": 172
        },
        "outputId": "bb574b15-e28b-4442-d505-ec3924cd4767"
      },
      "source": [
        "df[(df[\"Edad\"] >= 16) | (df[\"Altura\"] > 1.60)]"
      ],
      "execution_count": null,
      "outputs": [
        {
          "output_type": "execute_result",
          "data": {
            "text/html": [
              "<div>\n",
              "<style scoped>\n",
              "    .dataframe tbody tr th:only-of-type {\n",
              "        vertical-align: middle;\n",
              "    }\n",
              "\n",
              "    .dataframe tbody tr th {\n",
              "        vertical-align: top;\n",
              "    }\n",
              "\n",
              "    .dataframe thead th {\n",
              "        text-align: right;\n",
              "    }\n",
              "</style>\n",
              "<table border=\"1\" class=\"dataframe\">\n",
              "  <thead>\n",
              "    <tr style=\"text-align: right;\">\n",
              "      <th></th>\n",
              "      <th>Nombre</th>\n",
              "      <th>Apellido</th>\n",
              "      <th>Edad</th>\n",
              "      <th>Peso</th>\n",
              "      <th>Altura</th>\n",
              "      <th>Nombre_completo</th>\n",
              "      <th>imc</th>\n",
              "    </tr>\n",
              "  </thead>\n",
              "  <tbody>\n",
              "    <tr>\n",
              "      <th>0</th>\n",
              "      <td>Roberto</td>\n",
              "      <td>Alfaro</td>\n",
              "      <td>16</td>\n",
              "      <td>70</td>\n",
              "      <td>1.78</td>\n",
              "      <td>Roberto Alfaro</td>\n",
              "      <td>22.093170</td>\n",
              "    </tr>\n",
              "    <tr>\n",
              "      <th>2</th>\n",
              "      <td>Erick</td>\n",
              "      <td>Estrada</td>\n",
              "      <td>16</td>\n",
              "      <td>65</td>\n",
              "      <td>1.74</td>\n",
              "      <td>Erick Estrada</td>\n",
              "      <td>21.469150</td>\n",
              "    </tr>\n",
              "    <tr>\n",
              "      <th>4</th>\n",
              "      <td>Jorge</td>\n",
              "      <td>Ortíz</td>\n",
              "      <td>17</td>\n",
              "      <td>60</td>\n",
              "      <td>1.70</td>\n",
              "      <td>Jorge  Ortíz</td>\n",
              "      <td>20.761246</td>\n",
              "    </tr>\n",
              "    <tr>\n",
              "      <th>5</th>\n",
              "      <td>Rosa</td>\n",
              "      <td>Jiménez</td>\n",
              "      <td>16</td>\n",
              "      <td>56</td>\n",
              "      <td>1.53</td>\n",
              "      <td>Rosa Jiménez</td>\n",
              "      <td>23.922423</td>\n",
              "    </tr>\n",
              "  </tbody>\n",
              "</table>\n",
              "</div>"
            ],
            "text/plain": [
              "    Nombre Apellido  Edad  Peso  Altura Nombre_completo        imc\n",
              "0  Roberto   Alfaro    16    70    1.78  Roberto Alfaro  22.093170\n",
              "2    Erick  Estrada    16    65    1.74   Erick Estrada  21.469150\n",
              "4   Jorge     Ortíz    17    60    1.70    Jorge  Ortíz  20.761246\n",
              "5     Rosa  Jiménez    16    56    1.53    Rosa Jiménez  23.922423"
            ]
          },
          "metadata": {
            "tags": []
          },
          "execution_count": 13
        }
      ]
    },
    {
      "cell_type": "code",
      "metadata": {
        "id": "mbrhn2sSiCvm",
        "colab": {
          "base_uri": "https://localhost:8080/"
        },
        "outputId": "a1072db8-1b1c-46ec-e3bb-92be1120361a"
      },
      "source": [
        "df.groupby('Edad').size()"
      ],
      "execution_count": null,
      "outputs": [
        {
          "output_type": "execute_result",
          "data": {
            "text/plain": [
              "Edad\n",
              "15    2\n",
              "16    3\n",
              "17    1\n",
              "dtype: int64"
            ]
          },
          "metadata": {
            "tags": []
          },
          "execution_count": 14
        }
      ]
    }
  ]
}